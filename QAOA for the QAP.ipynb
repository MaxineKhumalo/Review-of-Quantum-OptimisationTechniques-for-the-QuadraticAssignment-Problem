{
 "cells": [
  {
   "cell_type": "markdown",
   "metadata": {},
   "source": [
    "# QAOA for the QAP"
   ]
  },
  {
   "cell_type": "markdown",
   "metadata": {},
   "source": [
    "This code was modified from tutorials on quantum optimisation provided by Qiskit from 2020-2022. Note the licence at the end of the notebook"
   ]
  },
  {
   "cell_type": "code",
   "execution_count": 1,
   "metadata": {},
   "outputs": [],
   "source": [
    "import warnings\n",
    "warnings.filterwarnings(\"ignore\", category=DeprecationWarning) "
   ]
  },
  {
   "cell_type": "code",
   "execution_count": null,
   "metadata": {},
   "outputs": [],
   "source": [
    "import qiskit\n",
    "\n",
    "from qiskit.aqua.algorithms import QAOA\n",
    "from qiskit.algorithms.optimizers import SPSA\n",
    "from qiskit.aqua import QuantumInstance\n",
    "\n",
    "from docplex.mp.model import Model\n",
    "from qiskit_optimization import QuadraticProgram\n",
    "from qiskit import IBMQ\n",
    "from qiskit.optimization.applications.ising import docplex\n",
    "#\n",
    "\n",
    "#import logging\n",
    "import numpy as np\n",
    "import pandas as pd\n",
    "import math\n"
   ]
  },
  {
   "cell_type": "markdown",
   "metadata": {},
   "source": [
    "For new versions of Qiskit, be prepared for a deprecation warning"
   ]
  },
  {
   "cell_type": "markdown",
   "metadata": {},
   "source": [
    "## Important prelim functions"
   ]
  },
  {
   "cell_type": "code",
   "execution_count": 1,
   "metadata": {},
   "outputs": [],
   "source": [
    "#small sized matrices(under 10x10) (quick on all methods)\n",
    "matrix_size_3 = './data/made3.csv'\n",
    "matrix_size_4 = './data/made4.csv'\n",
    "matrix_size_5 = './data/made5.csv'\n",
    "matrix_size_6 = './data/made6.csv'\n",
    "matrix_size_7 = './data/made7.csv'\n",
    "matrix_size_8 = './data/made8.csv'\n",
    "matrix_size_9 = './data/made9.csv'\n",
    "\n",
    "matrixMade = ['./data/made4.csv', \n",
    "              './data/made5.csv', \n",
    "              './data/made6.csv', \n",
    "              './data/made7.csv', \n",
    "              './data/made8.csv', \n",
    "              './data/made9.csv']"
   ]
  },
  {
   "cell_type": "code",
   "execution_count": 2,
   "metadata": {},
   "outputs": [],
   "source": [
    "def CSVtoNumpyArray(rawdata):\n",
    "    \"\"\"\n",
    "    Input: \n",
    "    rawdata = a csv file (insert name as a string)\n",
    "\n",
    "    Output:\n",
    "    two numpy matrices in a tuple\n",
    "    \"\"\"\n",
    "    data = pd.read_csv(rawdata)  #Reads the data in as a pandas object\n",
    "    c = data.columns\n",
    "    column = int(c[0])\n",
    "    final_data1 = data.iloc[:column,:].values  #Sets data into a series of numpy arrays of strings\n",
    "    final_data2 = data.iloc[column:,:].values  #1 is for the first matrix(loc) and 2 is for the second(flow)\n",
    "    \n",
    "\n",
    "    #Forms the matrix as a numpy array (easier to work with) instead of an list of lists of strings\n",
    "    def string_to_integers(final_data):\n",
    "        matrix = []\n",
    "        for j in range(column):\n",
    "            string = final_data[j][0]\n",
    "            string2 = string.split(\" \")\n",
    "            emptyarray = []\n",
    "            for i in string2:\n",
    "                if i != '':\n",
    "                    emptyarray.append(int(i))\n",
    "            matrix.append(emptyarray)\n",
    "        npmatrix = np.array(matrix) \n",
    "        return npmatrix\n",
    "    return string_to_integers(final_data1),string_to_integers(final_data2)"
   ]
  },
  {
   "cell_type": "code",
   "execution_count": 3,
   "metadata": {},
   "outputs": [],
   "source": [
    "def qap_value(z, MatrixLoc, MatrixFlow):\n",
    "    \"\"\"Compute the TSP value of a solution.\n",
    "    Args:\n",
    "        z (list[int]): list of allocations\n",
    "        MatrixLoc (numpy array): matrix of distances\n",
    "        MatrixFlow (numpy array): matrix of flow\n",
    "    Returns:\n",
    "        float: value of the QAP\n",
    "    \"\"\"\n",
    "    matrix_length = len(MatrixLoc)\n",
    "    x = np.reshape(z, (matrix_length,matrix_length)).astype(int)\n",
    "    \n",
    "    total = 0\n",
    "    for i in range(matrix_length):\n",
    "        for j in range(matrix_length):\n",
    "            for k in range(matrix_length):\n",
    "                for p in range(matrix_length):\n",
    "                        total += MatrixLoc[i,j]* MatrixFlow[k,p]*x[i,k]*x[j,p]\n",
    "    \n",
    "    return total"
   ]
  },
  {
   "cell_type": "markdown",
   "metadata": {},
   "source": [
    "Feasibility functions"
   ]
  },
  {
   "cell_type": "code",
   "execution_count": 4,
   "metadata": {},
   "outputs": [],
   "source": [
    "def qap_feasible(x):\n",
    "    \"\"\"Check whether a solution is feasible or not.\n",
    "\n",
    "    Args:\n",
    "        x (numpy.ndarray) : binary string as numpy array.\n",
    "\n",
    "    Returns:\n",
    "        bool: feasible or not.\n",
    "    \"\"\"\n",
    "    n = int(np.sqrt(len(x)))\n",
    "    y = np.reshape(x, (n,n)).astype(int)\n",
    "   \n",
    "    for i in range(n):\n",
    "        if sum(y[i, p] for p in range(n)) != 1:\n",
    "            return False\n",
    "    for p__ in range(n):\n",
    "        if sum(y[i, p__] for i in range(n)) != 1:\n",
    "            return False\n",
    "    return True"
   ]
  },
  {
   "cell_type": "code",
   "execution_count": 5,
   "metadata": {},
   "outputs": [],
   "source": [
    "def choose_best_feasible(eigenstates):\n",
    "    \"\"\"\n",
    "    Input:\n",
    "    eigenstates = dictionary\n",
    "    \n",
    "    Output:\n",
    "    feasible binary 1D numpyarray\n",
    "    probability of this answer\n",
    "    \n",
    "    \"\"\"\n",
    "    bestinarray = sorted(eigenstates.items(), key=lambda item: item[1])[::-1]\n",
    "    feasible = False\n",
    "    counter = 0\n",
    "    total = sum(eigenstates.values())\n",
    "    \n",
    "    feasible=False\n",
    "    while feasible==False and counter<len(bestinarray):\n",
    "        #string to array\n",
    "        bestasint = np.array([0])\n",
    "        for i in bestinarray[counter][0]:\n",
    "            bestasint = np.hstack((bestasint, int(i)))\n",
    "        feasible = qap_feasible(bestasint[1:])\n",
    "        frequency = bestinarray[counter][1]\n",
    "        counter += 1\n",
    "        \n",
    "    if feasible == False:\n",
    "        return feasible\n",
    "    else:\n",
    "        return bestasint[1:], frequency/total"
   ]
  },
  {
   "cell_type": "markdown",
   "metadata": {},
   "source": [
    "## IBM device loading"
   ]
  },
  {
   "cell_type": "code",
   "execution_count": 6,
   "metadata": {},
   "outputs": [],
   "source": [
    "from qiskit import IBMQ\n",
    "#IBMQ.save_account('INSERT KEY IF NECESSARY')"
   ]
  },
  {
   "cell_type": "code",
   "execution_count": null,
   "metadata": {},
   "outputs": [],
   "source": [
    "from qiskit import IBMQ\n",
    "\n",
    "# Load account from disk\n",
    "IBMQ.load_account()\n",
    "IBMQ.providers()"
   ]
  },
  {
   "cell_type": "code",
   "execution_count": null,
   "metadata": {},
   "outputs": [],
   "source": [
    "provider = IBMQ.get_provider(\"INSERT PROVIDER\")\n",
    "\n",
    "provider.backends()"
   ]
  },
  {
   "cell_type": "markdown",
   "metadata": {},
   "source": [
    "## The QAOA function"
   ]
  },
  {
   "cell_type": "code",
   "execution_count": 9,
   "metadata": {},
   "outputs": [],
   "source": [
    "def testing_quantum(ins, backend, optimal_point, spsa_trials, trials, p_value):\n",
    "    \"\"\"\n",
    "    Input:\n",
    "    ins: name of instance\n",
    "    backend\n",
    "    optimal_point\n",
    "    spsa_trials\n",
    "    trials\n",
    "    \n",
    "    Output:\n",
    "    outmatrix : [soln,result time,eigenvector,number of spsa trials]\n",
    "    \"\"\"\n",
    "    \n",
    "    #get matrix\n",
    "    datamatrix = CSVtoNumpyArray(ins)\n",
    "    MatrixLoc = datamatrix[0]\n",
    "    MatrixFlow = datamatrix[1]\n",
    "    n = len(MatrixLoc)\n",
    "\n",
    "    # Create an instance of a model and variables.\n",
    "    thename = \"qap\" + str(n)\n",
    "    mdl = Model(name=thename)\n",
    "    x = {(i,p): mdl.binary_var(name='x_{0}_{1}'.format(i,p)) for i in range(n) for p in range(n)}\n",
    "\n",
    "    # Object function\n",
    "    qap_func = mdl.sum(MatrixLoc[i,j]* MatrixFlow[k,p]*x[i,k]*x[j,p] for i in range(n) for j in range(n) for p in range(n) for k in range(n))\n",
    "    mdl.minimize(qap_func)\n",
    "\n",
    "    # Constraints\n",
    "    for i in range(n):\n",
    "        mdl.add_constraint(mdl.sum(x[(i,p)] for p in range(n)) == 1)\n",
    "    for p in range(n):\n",
    "        mdl.add_constraint(mdl.sum(x[(i,p)] for i in range(n)) == 1)\n",
    "    print(mdl.export_to_string())\n",
    "    qubitOp_docplex, offset_docplex = docplex.get_operator(mdl) #potential error\n",
    "\n",
    "    #QAOA\n",
    "    machinesolutions = []\n",
    "    rmachinesolutions = []\n",
    "    seed = 10598\n",
    "    mod = QuadraticProgram()\n",
    "    mod.from_docplex(mdl)\n",
    "\n",
    "\n",
    "    #trials\n",
    "    ans = np.zeros(5)\n",
    "    file = open(\"thirty_trials-\" + str(backend) + \"-\" + str(ins[-9:]) ,\"w\")\n",
    "    file.write(\"value,   feasible,   frequency, time, iteration\" + \"\\n\")\n",
    "    for i in range(trials):\n",
    "        spsa = SPSA(maxiter=spsa_trials) #classical optimiser\n",
    "        \n",
    "        Backend = provider.get_backend(backend) #backend\n",
    "        quantum_instance = QuantumInstance(backend=Backend,seed_simulator=seed,\n",
    "                                           seed_transpiler=seed, skip_qobj_validation = False, shots = 8192)\n",
    "\n",
    "        qaoa = QAOA(qubitOp_docplex,optimizer=spsa, p=p_value,include_custom=True,initial_point = optimal_point)\n",
    "        result = qaoa.run(quantum_instance) #results\n",
    "        \n",
    "        \n",
    "        print('QAOA optimal point:', result['optimal_point'])\n",
    "        print('QAOA time:', result['optimizer_time'])\n",
    "        print('QAOA QAP objective:', result['eigenvalue'] + offset_docplex)\n",
    "        \n",
    "        #print results csv-files\n",
    "        n = len(list(result['eigenstate'].values()))\n",
    "        solution = np.hstack((np.array(list(result['eigenstate'].values())).reshape(n,1),np.array(list(result['eigenstate'].keys())).reshape(n,1)))\n",
    "        print(solution)\n",
    "        for r in solution:\n",
    "            file.write(str(qap_value(np.array(list(r[1])),MatrixFlow,MatrixLoc)) + \",\" + str(qap_feasible(np.array(list(r[1])))) + \",\" + str(r[0]) + \",\"+ str(result['optimizer_time']) + \",\" + str(i) + \"\\n\")\n",
    "            ans = np.vstack((ans,np.array([qap_value(np.array(list(r[1])),MatrixFlow,MatrixLoc),qap_feasible(np.array(list(r[1]))),float(r[0]),result['optimizer_time'],i])))\n",
    "        except:\n",
    "            file.write(\"An error occurred on iteration \" + str(i) + \" of the \" + str(trials) + \" trials\")\n",
    "            print(\"AN ERROR OCCURRED ON ITERATION\" + str(i) + \" of the \" + str(trials) + \" trials\")\n",
    "            ans = np.vstack((ans,np.array([math.inf,False,0,np.nan,i])))\n",
    "        print(\"Iteration \"+ str(i) + \" is complete.\")\n",
    "    file.close()\n",
    "    return ans[1:] \n",
    "    "
   ]
  },
  {
   "cell_type": "code",
   "execution_count": 10,
   "metadata": {},
   "outputs": [],
   "source": [
    "def read_optimal(ins):\n",
    "    data = pd.read_csv(\"initial_point-\" + str(ins),header = None)\n",
    "    n = len(data[0]) - 1\n",
    "    ans = []\n",
    "    data[0][0] = data[0][0][1:]\n",
    "    data[0][n] = data[0][n][:-1]\n",
    "    for i in data[0]:\n",
    "        r = i.split(\" \")\n",
    "        for t in r:\n",
    "            if t!='':\n",
    "                ans.append(float(t))\n",
    "    return np.array(ans)"
   ]
  },
  {
   "cell_type": "markdown",
   "metadata": {},
   "source": [
    "## The results cells"
   ]
  },
  {
   "cell_type": "code",
   "execution_count": null,
   "metadata": {},
   "outputs": [
    {
     "name": "stdout",
     "output_type": "stream",
     "text": [
      "\\ This file has been generated by DOcplex\n",
      "\\ ENCODING=ISO-8859-1\n",
      "\\Problem name: qap3\n",
      "\n",
      "Minimize\n",
      " obj: [ 4704 x_0_0*x_1_1 + 3444 x_0_0*x_1_2 + 21280 x_0_0*x_2_1\n",
      "      + 15580 x_0_0*x_2_2 + 4704 x_0_1*x_1_0 + 504 x_0_1*x_1_2\n",
      "      + 21280 x_0_1*x_2_0 + 2280 x_0_1*x_2_2 + 3444 x_0_2*x_1_0\n",
      "      + 504 x_0_2*x_1_1 + 15580 x_0_2*x_2_0 + 2280 x_0_2*x_2_1\n",
      "      + 18368 x_1_0*x_2_1 + 13448 x_1_0*x_2_2 + 18368 x_1_1*x_2_0\n",
      "      + 1968 x_1_1*x_2_2 + 13448 x_1_2*x_2_0 + 1968 x_1_2*x_2_1 ]/2\n",
      "Subject To\n",
      " c1: x_0_0 + x_0_1 + x_0_2 = 1\n",
      " c2: x_1_0 + x_1_1 + x_1_2 = 1\n",
      " c3: x_2_0 + x_2_1 + x_2_2 = 1\n",
      " c4: x_0_0 + x_1_0 + x_2_0 = 1\n",
      " c5: x_0_1 + x_1_1 + x_2_1 = 1\n",
      " c6: x_0_2 + x_1_2 + x_2_2 = 1\n",
      "\n",
      "Bounds\n",
      " 0 <= x_0_0 <= 1\n",
      " 0 <= x_0_1 <= 1\n",
      " 0 <= x_0_2 <= 1\n",
      " 0 <= x_1_0 <= 1\n",
      " 0 <= x_1_1 <= 1\n",
      " 0 <= x_1_2 <= 1\n",
      " 0 <= x_2_0 <= 1\n",
      " 0 <= x_2_1 <= 1\n",
      " 0 <= x_2_2 <= 1\n",
      "\n",
      "Binaries\n",
      " x_0_0 x_0_1 x_0_2 x_1_0 x_1_1 x_1_2 x_2_0 x_2_1 x_2_2\n",
      "End\n",
      "\n"
     ]
    }
   ],
   "source": [
    "ins = matrix_size_3\n",
    "#import logging\n",
    "#logging.basicConfig(level=logging.DEBUG) # log the steps of the algorithm and results\n",
    "import warnings\n",
    "warnings.filterwarnings(\"ignore\", category=DeprecationWarning) \n",
    "backend = 'ibm_cairo'\n",
    "optimal_point = read_optimal(ins)\n",
    "p = 1\n",
    "ans = testing_quantum(ins, backend, optimal_point, 1, 30, p)"
   ]
  },
  {
   "cell_type": "code",
   "execution_count": null,
   "metadata": {},
   "outputs": [],
   "source": [
    "import qiskit.tools.jupyter\n",
    "%qiskit_version_table\n",
    "%qiskit_copyright"
   ]
  }
 ],
 "metadata": {
  "kernelspec": {
   "display_name": "Python 3",
   "language": "python",
   "name": "python3"
  },
  "language_info": {
   "codemirror_mode": {
    "name": "ipython",
    "version": 3
   },
   "file_extension": ".py",
   "mimetype": "text/x-python",
   "name": "python",
   "nbconvert_exporter": "python",
   "pygments_lexer": "ipython3",
   "version": "3.6.10"
  }
 },
 "nbformat": 4,
 "nbformat_minor": 2
}
