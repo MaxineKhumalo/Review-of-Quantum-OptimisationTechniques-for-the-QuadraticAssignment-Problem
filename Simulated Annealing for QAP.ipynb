{
 "cells": [
  {
   "cell_type": "markdown",
   "metadata": {},
   "source": [
    "# Simulated Annealing"
   ]
  },
  {
   "cell_type": "code",
   "execution_count": 1,
   "metadata": {},
   "outputs": [],
   "source": [
    "##This is an initialization cell. Run this first\n",
    "import pandas as pd\n",
    "import numpy as np\n",
    "from itertools import product\n",
    "import time\n",
    "import math\n",
    "import matplotlib\n",
    "import matplotlib.pyplot as plt"
   ]
  },
  {
   "cell_type": "markdown",
   "metadata": {},
   "source": [
    "### Repository"
   ]
  },
  {
   "cell_type": "code",
   "execution_count": 2,
   "metadata": {},
   "outputs": [],
   "source": [
    "def CSVtoNumpyArray(rawdata):\n",
    "    \"\"\"\n",
    "    Input: \n",
    "    rawdata = a csv file (insert name as a string)\n",
    "\n",
    "    Output:\n",
    "    two numpy matrices in a tuple\n",
    "    \n",
    "    Optimised 04/06/2020\n",
    "    \"\"\"\n",
    "    data = pd.read_csv(rawdata)  #Reads the data in as a pandas object\n",
    "    c = data.columns\n",
    "    column = int(c[0])\n",
    "    final_data1 = data.iloc[:column,:].values  #Sets data into a series of numpy arrays of strings\n",
    "    final_data2 = data.iloc[column:,:].values  #1 is for the first matrix(loc) and 2 is for the second(flow)\n",
    "    \n",
    "\n",
    "    #Forms the matrix as a numpy array (easier to work with) instead of an list of lists of strings\n",
    "    def string_to_integers(final_data):\n",
    "        matrix = np.zeros(column)\n",
    "        for j in range(column):\n",
    "            string = final_data[j][0]\n",
    "            string2 = string.split(\" \")\n",
    "            emptyarray = np.array([])\n",
    "            for i in string2:\n",
    "                if i != '':\n",
    "                    emptyarray = np.append(emptyarray,i).astype(int)\n",
    "            matrix = np.vstack((matrix,emptyarray))\n",
    "        return matrix[1:]\n",
    "    return string_to_integers(final_data1),string_to_integers(final_data2)"
   ]
  },
  {
   "cell_type": "code",
   "execution_count": 3,
   "metadata": {},
   "outputs": [],
   "source": [
    "#small sized matrices(under 10x10) (quick on all methods)\n",
    "matrix_size_4 = './data/made4.csv'\n",
    "matrix_size_5 = './data/made5.csv'\n",
    "matrix_size_6 = './data/made6.csv'\n",
    "matrix_size_7 = './data/made7.csv'\n",
    "matrix_size_8 = './data/made8.csv'\n",
    "matrix_size_9 = './data/made9.csv'\n",
    "\n",
    "matrixMade = ['./data/made4.csv', \n",
    "              './data/made5.csv', \n",
    "              './data/made6.csv', \n",
    "              './data/made7.csv', \n",
    "              './data/made8.csv', \n",
    "              './data/made9.csv']\n",
    "\n",
    "\n",
    "#medium sized matrices(ranging from 10x10 to 30x30) (slow on deterministic methods, fast on heuristics)\n",
    "matrix_size_10 = './data/tai10a.csv'\n",
    "matrix_size_11 = './data/made11.csv'\n",
    "matrix_size_12 = './data/tai12a.csv'\n",
    "matrix_size_15 = './data/chr15a.csv' \n",
    "matrix_size_20 = './data/chr20a.csv'\n",
    "matrix_size_26 = './data/bur26a.csv'\n",
    "\n",
    "#large sized matrices(30x30 and bigger)(reasonably slow on the heuristics to a certain degree of accuracy)\n",
    "matrix_size_40 = './data/tai40a.csv'\n",
    "matrix_size_60 = './data/tai60.csv'\n",
    "matrix_size_80 = './data/tai80.csv'\n",
    "matrix_size_256 = './data/tai256c.csv'\n",
    "\n",
    "datamatrix = CSVtoNumpyArray(matrix_size_4) # Decide the size of problem to run in the code (clue: \n",
    "                                                #the number in the original name is the size)\n",
    "MatrixLoc = datamatrix[0]\n",
    "MatrixFlow = datamatrix[1]"
   ]
  },
  {
   "cell_type": "code",
   "execution_count": null,
   "metadata": {},
   "outputs": [],
   "source": []
  },
  {
   "cell_type": "markdown",
   "metadata": {},
   "source": [
    "# Simulated Annealing Algorithm"
   ]
  },
  {
   "cell_type": "markdown",
   "metadata": {},
   "source": [
    "### https://www.sciencedirect.com/science/article/pii/S0360835296002653 \n",
    "### **Simulated Annealing for the Quadratic Assignment Problem: A Further Study by Tian Peng,  Wang Huanchen , Zhang Dongme**\n",
    "\n",
    "This paper looks into the use of the Simulated Annealing Algorithm specifically for the Quadratic Assignment Problem."
   ]
  },
  {
   "cell_type": "code",
   "execution_count": null,
   "metadata": {},
   "outputs": [],
   "source": [
    "  "
   ]
  },
  {
   "cell_type": "code",
   "execution_count": 4,
   "metadata": {},
   "outputs": [],
   "source": [
    "def saQAP( T, e, L, alpha, name):\n",
    "    \"\"\"\n",
    "    Input: \n",
    "    T - scalar value(large)\n",
    "    e - scalar small value as a lower bound\n",
    "    L - scalar large for number of iterations\n",
    "    alpha - scalar between 0 and 1\n",
    "    name - string to csv file\n",
    "    \n",
    "    Output:\n",
    "    x - vector(1 by n) - final permutation\n",
    "    fitnessQAP(x, D, F) - scalar total\n",
    "    \n",
    "    \"\"\"\n",
    "    \n",
    "    MatrixLoc = CSVtoNumpyArray(name)[0]\n",
    "    MatrixFlow = CSVtoNumpyArray(name)[1]\n",
    "    n     = len(MatrixLoc)\n",
    "    x= np.array(list(range(n)))\n",
    "    \n",
    "    while T > e:\n",
    "        for i in range(L):\n",
    "            num1, num2 = np.random.choice(n, 2, replace = False)\n",
    "            fx      = fitnessQAP(x, MatrixLoc, MatrixFlow)\n",
    "            y       = x.copy()\n",
    "            temp    = y[num1]\n",
    "            y[num1] = y[num2]\n",
    "            y[num2] = temp\n",
    "            fy      = fitnessQAP(y, MatrixLoc, MatrixFlow)\n",
    "            if fy < fx:\n",
    "                x  = y.copy()\n",
    "                fx = fy.copy()\n",
    "            elif np.random.rand() < np.exp(-(fy - fx)/T):\n",
    "                x  = y.copy()\n",
    "                fx = fy.copy()\n",
    "        T = alpha*T\n",
    "    return x, fitnessQAP(x, MatrixLoc, MatrixFlow)"
   ]
  },
  {
   "cell_type": "code",
   "execution_count": 5,
   "metadata": {},
   "outputs": [],
   "source": [
    "def fitnessQAP(x, MatrixLoc, MatrixFlow):\n",
    "    n     = len(x)\n",
    "    total = 0\n",
    "    for i in range(n):\n",
    "        for k in range(n):\n",
    "            if i != k:\n",
    "                total += MatrixLoc[i][k]*MatrixFlow[x[i]][x[k]]\n",
    "    return total"
   ]
  },
  {
   "cell_type": "code",
   "execution_count": null,
   "metadata": {},
   "outputs": [],
   "source": []
  },
  {
   "cell_type": "code",
   "execution_count": 7,
   "metadata": {},
   "outputs": [
    {
     "data": {
      "text/plain": [
       "(array([2, 3, 0, 1]), 790.0)"
      ]
     },
     "execution_count": 7,
     "metadata": {},
     "output_type": "execute_result"
    }
   ],
   "source": [
    "T     = 100000\n",
    "e     = 1e-3\n",
    "L     = 20\n",
    "alpha = 0.99\n",
    "saQAP( T, e, L, alpha, matrix_size_4)"
   ]
  },
  {
   "cell_type": "code",
   "execution_count": null,
   "metadata": {},
   "outputs": [],
   "source": [
    "def thirtytrials(optimal_parameters,T,name,known):\n",
    "    final = np.array([])\n",
    "    count95 = 0\n",
    "    count99 = 0\n",
    "    for i in range(30):\n",
    "        ans = saQAP( T, optimal_parameters[0], optimal_parameters[1], optimal_parameters[2], name)[1]\n",
    "        final = np.append(final,ans)\n",
    "        #SR95\n",
    "        if ans <= 1.05*known:\n",
    "            count95+=1\n",
    "        #sr99\n",
    "        if ans <= 1.01*known:\n",
    "            count99+=1\n",
    "    return 100*count95/30, 100*count99/30"
   ]
  },
  {
   "cell_type": "code",
   "execution_count": null,
   "metadata": {},
   "outputs": [],
   "source": []
  },
  {
   "cell_type": "code",
   "execution_count": null,
   "metadata": {},
   "outputs": [],
   "source": []
  }
 ],
 "metadata": {
  "kernelspec": {
   "display_name": "Python 3",
   "language": "python",
   "name": "python3"
  },
  "language_info": {
   "codemirror_mode": {
    "name": "ipython",
    "version": 3
   },
   "file_extension": ".py",
   "mimetype": "text/x-python",
   "name": "python",
   "nbconvert_exporter": "python",
   "pygments_lexer": "ipython3",
   "version": "3.6.10"
  }
 },
 "nbformat": 4,
 "nbformat_minor": 2
}
