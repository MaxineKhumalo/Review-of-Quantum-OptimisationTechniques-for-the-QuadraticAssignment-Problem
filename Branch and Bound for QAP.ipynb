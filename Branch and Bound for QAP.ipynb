{
 "cells": [
  {
   "cell_type": "markdown",
   "metadata": {},
   "source": [
    "# Branch and Bound for the Quadratic Assignment Problem"
   ]
  },
  {
   "cell_type": "code",
   "execution_count": 1,
   "metadata": {},
   "outputs": [],
   "source": [
    "##This is an initialization cell. Run this first\n",
    "import pandas as pd\n",
    "import numpy as np\n",
    "from itertools import product\n",
    "import time\n",
    "import math\n",
    "import matplotlib\n",
    "import matplotlib.pyplot as plt"
   ]
  },
  {
   "cell_type": "markdown",
   "metadata": {},
   "source": [
    "The functions below are for inputting the csv data (that is in the QAPLIB format) and making the matrices numpy arrays."
   ]
  },
  {
   "cell_type": "code",
   "execution_count": 2,
   "metadata": {},
   "outputs": [],
   "source": [
    "def CSVtoNumpyArray(rawdata):\n",
    "    \"\"\"\n",
    "    Input: \n",
    "    rawdata = a csv file (insert name as a string)\n",
    "\n",
    "    Output:\n",
    "    two numpy matrices in a tuple\n",
    "    \n",
    "    Optimised 04/06/2020\n",
    "    \"\"\"\n",
    "    data = pd.read_csv(rawdata)  #Reads the data in as a pandas object\n",
    "    c = data.columns\n",
    "    column = int(c[0])\n",
    "    final_data1 = data.iloc[:column,:].values  #Sets data into a series of numpy arrays of strings\n",
    "    final_data2 = data.iloc[column:,:].values  #1 is for the first matrix(loc) and 2 is for the second(flow)\n",
    "    \n",
    "\n",
    "    #Forms the matrix as a numpy array (easier to work with) instead of an list of lists of strings\n",
    "    def string_to_integers(final_data):\n",
    "        matrix = np.zeros(column)\n",
    "        for j in range(column):\n",
    "            string = final_data[j][0]\n",
    "            string2 = string.split(\" \")\n",
    "            emptyarray = np.array([])\n",
    "            for i in string2:\n",
    "                if i != '':\n",
    "                    emptyarray = np.append(emptyarray,i).astype(int)\n",
    "            matrix = np.vstack((matrix,emptyarray))\n",
    "        return matrix[1:]\n",
    "    return string_to_integers(final_data1),string_to_integers(final_data2)"
   ]
  },
  {
   "cell_type": "code",
   "execution_count": 3,
   "metadata": {},
   "outputs": [],
   "source": [
    "#small sized matrices(under 10x10) (quick on all methods)\n",
    "matrix_size_3 = './data/made3.csv'\n",
    "matrix_size_4 = './data/made4.csv'\n",
    "matrix_size_5 = './data/made5.csv'\n",
    "matrix_size_6 = './data/made6.csv'\n",
    "matrix_size_7 = './data/made7.csv'\n",
    "matrix_size_8 = './data/made8.csv'\n",
    "matrix_size_9 = './data/made9.csv'\n",
    "\n",
    "#medium sized matrices(ranging from 10x10 to 30x30) (slow on deterministic methods, fast on heuristics)\n",
    "matrix_size_10 = './data/tai10a.csv'\n",
    "matrix_size_11 = './data/made11.csv'\n",
    "matrix_size_12 = './data/tai12a.csv'\n",
    "matrix_size_15 = './data/chr15a.csv' \n",
    "matrix_size_20 = './data/chr20a.csv'\n",
    "matrix_size_26 = './data/bur26a.csv'\n",
    "\n",
    "#large sized matrices(30x30 and bigger)(reasonably slow on the heuristics to a certain degree of accuracy)\n",
    "matrix_size_40 = './data/tai40a.csv'\n",
    "matrix_size_60 = './data/tai60.csv'\n",
    "matrix_size_80 = './data/tai80.csv'\n",
    "matrix_size_256 = './data/tai256c.csv'\n",
    "\n",
    "datamatrix = CSVtoNumpyArray(matrix_size_4) # Decide the size of problem to run in the code (clue: \n",
    "                                                #the number in the original name is the size)\n",
    "MatrixLoc = datamatrix[0]\n",
    "MatrixFlow = datamatrix[1]"
   ]
  },
  {
   "cell_type": "markdown",
   "metadata": {},
   "source": [
    "Below is the permutation generating function. For medium and large instances it would be wise to run this function to file separately first and then use the results for Exhaustive Search and/or Branch and Bound."
   ]
  },
  {
   "cell_type": "code",
   "execution_count": 4,
   "metadata": {},
   "outputs": [],
   "source": [
    "def QAPPermutations(iterable, r=None):\n",
    "    \"\"\"\n",
    "    Input:\n",
    "    String or numbers separated by a space\n",
    "    optional= the length that the permutations must be\n",
    "    \n",
    "    Output:\n",
    "    a generator of permutations\n",
    "    \n",
    "    Sourced from the itertools library and adjusted to suit this data type\n",
    "    https://docs.python.org/3.4/library/itertools.html#itertools.permutations \n",
    "    \"\"\"\n",
    "    \n",
    "    pool = iterable.split(\" \")\n",
    "    n = len(pool)\n",
    "    r = n if r is None else r\n",
    "    for indices in product(range(n), repeat=r):\n",
    "        if len(set(indices)) == r:\n",
    "            yield list(pool[i] for i in indices)"
   ]
  },
  {
   "cell_type": "code",
   "execution_count": null,
   "metadata": {},
   "outputs": [],
   "source": []
  },
  {
   "cell_type": "code",
   "execution_count": 5,
   "metadata": {},
   "outputs": [],
   "source": [
    "def BranchandBound(MatrixLoc,MatrixFlow):\n",
    "    \"\"\"\n",
    "    Input:\n",
    "    MatrixLoc\n",
    "    MatrixFlow\n",
    "    \n",
    "    Output:\n",
    "    The optimal permutation\n",
    "    the optimal cost\n",
    "    in a tuple\n",
    "    \"\"\"\n",
    "    #initialization\n",
    "    start = time.time()\n",
    "    matrix_length = len(MatrixLoc)\n",
    "    arraysol = []\n",
    "    bettersol = math.inf\n",
    "    bettersolind = 0\n",
    "    thestring = \"\"\n",
    "    \n",
    "    #Generate the permutations\n",
    "    for i in range(0,matrix_length):  #this is making a string of numbers from 0 to the size of the matrix -1\n",
    "        thestring += str(i) + \" \"\n",
    "    thestring = thestring[:-1]\n",
    "    listofpermutations = np.array(list(QAPPermutations(thestring,matrix_length))).astype(int)\n",
    "    no_of_permutations = len(listofpermutations)\n",
    "    \n",
    "    #Generate the multiples (that function we are optimising)\n",
    "    k = 0\n",
    "    while k < no_of_permutations:\n",
    "        perm = listofpermutations[k]\n",
    "        total = 0\n",
    "        i =0\n",
    "        #bounding\n",
    "        while i < matrix_length and bettersol>=total:\n",
    "            j=0\n",
    "            while j<matrix_length and bettersol>=total:\n",
    "                if i!=j:\n",
    "                    total += MatrixLoc[i][j]*MatrixFlow[perm[i]][perm[j]]\n",
    "                j += 1\n",
    "            i += 1\n",
    "        #branching\n",
    "        if i <= matrix_length - 2:\n",
    "            temp = k\n",
    "            temp += 1\n",
    "            temperm = perm[:i]\n",
    "            while temp<no_of_permutations and list(listofpermutations[temp][:i]) == list(temperm):\n",
    "                temp += 1  \n",
    "            k = temp - 1\n",
    "        #retain best solution\n",
    "        if bettersol>total:\n",
    "            bettersol = total\n",
    "            bettersolind = k\n",
    "        k+=1\n",
    "    \n",
    "    finalcost = bettersol\n",
    "    finalindex = bettersolind\n",
    "    end = time.time()\n",
    "    thetime = end - start\n",
    "    \n",
    "    return listofpermutations[finalindex],finalcost,thetime"
   ]
  },
  {
   "cell_type": "code",
   "execution_count": 6,
   "metadata": {},
   "outputs": [
    {
     "name": "stdout",
     "output_type": "stream",
     "text": [
      "(array([1, 0, 2]), 10216.0, 0.0)\n"
     ]
    }
   ],
   "source": [
    "datamatrix = CSVtoNumpyArray(matrix_size_3) # Decide the size of problem to run in the code \n",
    "MatrixLoc = datamatrix[0]\n",
    "MatrixFlow = datamatrix[1]\n",
    "\n",
    "print(BranchandBound(MatrixLoc,MatrixFlow))"
   ]
  },
  {
   "cell_type": "code",
   "execution_count": 12,
   "metadata": {},
   "outputs": [],
   "source": [
    "#names = [\"made4.csv\",\"made5.csv\",\"made6.csv\",\"made7.csv\",\"made8.csv\",\"made9.csv\",\"made10.csv\",\"made11.csv\"]\n",
    "def BnBResults(names):\n",
    "    file = open(\"BnB - out.csv\",\"w\")\n",
    "    for q in range(len(names)):\n",
    "        datamatrix = CSVtoNumpyArray(names[q]) # Decide the size of problem to run in the code\n",
    "        MatrixLoc = datamatrix[0]\n",
    "        MatrixFlow = datamatrix[1]\n",
    "        sol = (q+4,BranchandBound(MatrixLoc,MatrixFlow)[-1])\n",
    "        print(names[q] + \" has been solved by BnB\")\n",
    "        file.write( str(sol[0])+  \" \" + str(sol[1])+ \"\\n\")\n",
    "    file.close()\n",
    "\n",
    "    return True"
   ]
  },
  {
   "cell_type": "code",
   "execution_count": null,
   "metadata": {},
   "outputs": [],
   "source": []
  }
 ],
 "metadata": {
  "kernelspec": {
   "display_name": "Python 3",
   "language": "python",
   "name": "python3"
  },
  "language_info": {
   "codemirror_mode": {
    "name": "ipython",
    "version": 3
   },
   "file_extension": ".py",
   "mimetype": "text/x-python",
   "name": "python",
   "nbconvert_exporter": "python",
   "pygments_lexer": "ipython3",
   "version": "3.7.4"
  }
 },
 "nbformat": 4,
 "nbformat_minor": 2
}
