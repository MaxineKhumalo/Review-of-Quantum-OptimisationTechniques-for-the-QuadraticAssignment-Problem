{
 "cells": [
  {
   "cell_type": "markdown",
   "metadata": {},
   "source": [
    "# VQE for the QAP"
   ]
  },
  {
   "cell_type": "code",
   "execution_count": 1,
   "metadata": {},
   "outputs": [],
   "source": [
    "import warnings\n",
    "warnings.filterwarnings(\"ignore\", category=DeprecationWarning) "
   ]
  },
  {
   "cell_type": "code",
   "execution_count": 2,
   "metadata": {},
   "outputs": [
    {
     "name": "stderr",
     "output_type": "stream",
     "text": [
      "C:\\Users\\Maxine Khumalo\\anaconda3\\lib\\site-packages\\qiskit\\optimization\\__init__.py:92: DeprecationWarning: The package qiskit.optimization is deprecated. It was moved/refactored to qiskit_optimization (pip install qiskit-optimization). For more information see <https://github.com/Qiskit/qiskit-aqua/blob/main/README.md#migration-guide>\n",
      "  warn_package('optimization', 'qiskit_optimization', 'qiskit-optimization')\n"
     ]
    }
   ],
   "source": [
    "#INITIALISATION CELL\n",
    "import qiskit\n",
    "from qiskit.aqua.algorithms import VQE\n",
    "from qiskit.aqua.components.optimizers import SPSA\n",
    "from qiskit.circuit.library import RealAmplitudes,TwoLocal \n",
    "from qiskit.aqua import QuantumInstance\n",
    "\n",
    "from docplex.mp.model import Model\n",
    "from qiskit_optimization import QuadraticProgram\n",
    "from qiskit import IBMQ\n",
    "from qiskit.optimization.applications.ising import docplex\n",
    "\n",
    "# setup aqua logging\n",
    "import logging\n",
    "import numpy as np\n",
    "import pandas as pd\n",
    "import math"
   ]
  },
  {
   "cell_type": "code",
   "execution_count": 3,
   "metadata": {},
   "outputs": [],
   "source": [
    "def CSVtoNumpyArray(rawdata):\n",
    "    \"\"\"\n",
    "    Input: \n",
    "    rawdata = a csv file (insert name as a string)\n",
    "\n",
    "    Output:\n",
    "    two numpy matrices in a tuple\n",
    "    \"\"\"\n",
    "    data = pd.read_csv(rawdata)  #Reads the data in as a pandas object\n",
    "    c = data.columns\n",
    "    column = int(c[0])\n",
    "    final_data1 = data.iloc[:column,:].values  #Sets data into a series of numpy arrays of strings\n",
    "    final_data2 = data.iloc[column:,:].values  #1 is for the first matrix(loc) and 2 is for the second(flow)\n",
    "    \n",
    "\n",
    "    #Forms the matrix as a numpy array (easier to work with) instead of an list of lists of strings\n",
    "    def string_to_integers(final_data):\n",
    "        matrix = []\n",
    "        for j in range(column):\n",
    "            string = final_data[j][0]\n",
    "            string2 = string.split(\" \")\n",
    "            emptyarray = []\n",
    "            for i in string2:\n",
    "                if i != '':\n",
    "                    emptyarray.append(int(i))\n",
    "            matrix.append(emptyarray)\n",
    "        npmatrix = np.array(matrix) \n",
    "        return npmatrix\n",
    "    return string_to_integers(final_data1),string_to_integers(final_data2)"
   ]
  },
  {
   "cell_type": "code",
   "execution_count": 4,
   "metadata": {},
   "outputs": [],
   "source": [
    "def qap_value(z, MatrixLoc, MatrixFlow):\n",
    "    \"\"\"Compute the TSP value of a solution.\n",
    "    Args:\n",
    "        z (list[int]): list of allocations\n",
    "        MatrixLoc (numpy array): matrix of distances\n",
    "        MatrixFlow (numpy array): matrix of flow\n",
    "    Returns:\n",
    "        float: value of the QAP\n",
    "    \"\"\"\n",
    "    matrix_length = len(MatrixLoc)\n",
    "    x = np.reshape(z, (matrix_length,matrix_length)).astype(int)\n",
    "    \n",
    "    total = 0\n",
    "    for i in range(matrix_length):\n",
    "        for j in range(matrix_length):\n",
    "            for k in range(matrix_length):\n",
    "                for p in range(matrix_length):\n",
    "                        total += MatrixLoc[i,j]* MatrixFlow[k,p]*x[i,k]*x[j,p]\n",
    "    \n",
    "    return total"
   ]
  },
  {
   "cell_type": "code",
   "execution_count": 5,
   "metadata": {},
   "outputs": [
    {
     "data": {
      "text/plain": [
       "[<AccountProvider for IBMQ(hub='ibm-q', group='open', project='main')>,\n",
       " <AccountProvider for IBMQ(hub='ibm-q-wits', group='internal', project='physics')>,\n",
       " <AccountProvider for IBMQ(hub='ibm-q-wits', group='internal', project='wits-eie')>,\n",
       " <AccountProvider for IBMQ(hub='ibm-q-wits', group='reservations', project='reservations')>]"
      ]
     },
     "execution_count": 5,
     "metadata": {},
     "output_type": "execute_result"
    }
   ],
   "source": [
    "from qiskit import IBMQ\n",
    "\n",
    "# Load account from disk\n",
    "IBMQ.load_account()\n",
    "IBMQ.providers()"
   ]
  },
  {
   "cell_type": "code",
   "execution_count": 6,
   "metadata": {},
   "outputs": [
    {
     "data": {
      "text/plain": [
       "[<IBMQSimulator('ibmq_qasm_simulator') from IBMQ(hub='ibm-q-wits', group='internal', project='physics')>,\n",
       " <IBMQBackend('ibmq_armonk') from IBMQ(hub='ibm-q-wits', group='internal', project='physics')>,\n",
       " <IBMQBackend('ibmq_montreal') from IBMQ(hub='ibm-q-wits', group='internal', project='physics')>,\n",
       " <IBMQBackend('ibmq_toronto') from IBMQ(hub='ibm-q-wits', group='internal', project='physics')>,\n",
       " <IBMQBackend('ibmq_santiago') from IBMQ(hub='ibm-q-wits', group='internal', project='physics')>,\n",
       " <IBMQBackend('ibmq_bogota') from IBMQ(hub='ibm-q-wits', group='internal', project='physics')>,\n",
       " <IBMQBackend('ibmq_manhattan') from IBMQ(hub='ibm-q-wits', group='internal', project='physics')>,\n",
       " <IBMQBackend('ibmq_casablanca') from IBMQ(hub='ibm-q-wits', group='internal', project='physics')>,\n",
       " <IBMQBackend('ibmq_sydney') from IBMQ(hub='ibm-q-wits', group='internal', project='physics')>,\n",
       " <IBMQBackend('ibmq_mumbai') from IBMQ(hub='ibm-q-wits', group='internal', project='physics')>,\n",
       " <IBMQBackend('ibmq_lima') from IBMQ(hub='ibm-q-wits', group='internal', project='physics')>,\n",
       " <IBMQBackend('ibmq_belem') from IBMQ(hub='ibm-q-wits', group='internal', project='physics')>,\n",
       " <IBMQBackend('ibmq_quito') from IBMQ(hub='ibm-q-wits', group='internal', project='physics')>,\n",
       " <IBMQBackend('ibmq_guadalupe') from IBMQ(hub='ibm-q-wits', group='internal', project='physics')>,\n",
       " <IBMQSimulator('simulator_statevector') from IBMQ(hub='ibm-q-wits', group='internal', project='physics')>,\n",
       " <IBMQSimulator('simulator_mps') from IBMQ(hub='ibm-q-wits', group='internal', project='physics')>,\n",
       " <IBMQSimulator('simulator_extended_stabilizer') from IBMQ(hub='ibm-q-wits', group='internal', project='physics')>,\n",
       " <IBMQSimulator('simulator_stabilizer') from IBMQ(hub='ibm-q-wits', group='internal', project='physics')>,\n",
       " <IBMQBackend('ibmq_brooklyn') from IBMQ(hub='ibm-q-wits', group='internal', project='physics')>,\n",
       " <IBMQBackend('ibmq_jakarta') from IBMQ(hub='ibm-q-wits', group='internal', project='physics')>,\n",
       " <IBMQBackend('ibmq_manila') from IBMQ(hub='ibm-q-wits', group='internal', project='physics')>,\n",
       " <IBMQBackend('ibm_hanoi') from IBMQ(hub='ibm-q-wits', group='internal', project='physics')>,\n",
       " <IBMQBackend('ibm_lagos') from IBMQ(hub='ibm-q-wits', group='internal', project='physics')>,\n",
       " <IBMQBackend('ibm_cairo') from IBMQ(hub='ibm-q-wits', group='internal', project='physics')>]"
      ]
     },
     "execution_count": 6,
     "metadata": {},
     "output_type": "execute_result"
    }
   ],
   "source": [
    "provider = IBMQ.get_provider(hub='ibm-q-wits',project='physics')\n",
    "provider.backends()"
   ]
  },
  {
   "cell_type": "code",
   "execution_count": 7,
   "metadata": {},
   "outputs": [],
   "source": [
    "def qap_feasible(x):\n",
    "    \"\"\"Check whether a solution is feasible or not.\n",
    "\n",
    "    Args:\n",
    "        x (numpy.ndarray) : binary string as numpy array.\n",
    "\n",
    "    Returns:\n",
    "        bool: feasible or not.\n",
    "    \"\"\"\n",
    "    n = int(np.sqrt(len(x)))\n",
    "    y = np.reshape(x, (n,n)).astype(int)\n",
    "   \n",
    "    for i in range(n):\n",
    "        if sum(y[i, p] for p in range(n)) != 1:\n",
    "            return False\n",
    "    for p__ in range(n):\n",
    "        if sum(y[i, p__] for i in range(n)) != 1:\n",
    "            return False\n",
    "    return True"
   ]
  },
  {
   "cell_type": "code",
   "execution_count": 8,
   "metadata": {},
   "outputs": [],
   "source": [
    "def choose_best_feasible(eigenstates):\n",
    "    \"\"\"\n",
    "    Input:\n",
    "    eigenstates = dictionary\n",
    "    \n",
    "    Output:\n",
    "    feasible binary 1D numpyarray\n",
    "    probability of this answer\n",
    "    \n",
    "    \"\"\"\n",
    "    bestinarray = sorted(eigenstates.items(), key=lambda item: item[1])[::-1]\n",
    "    feasible = False\n",
    "    counter = 0\n",
    "    total = sum(eigenstates.values())\n",
    "    final = np.array([0,0])\n",
    "    \n",
    "    while counter<len(bestinarray):\n",
    "        #string to array\n",
    "        bestasint = np.array([0])\n",
    "        for i in bestinarray[counter][0]:\n",
    "            bestasint = np.hstack((bestasint, int(i)))\n",
    "        feasible = qap_feasible(bestasint[1:])\n",
    "        if feasible ==True:\n",
    "            frequency = bestinarray[counter][1]\n",
    "            final = np.vstack((final,[bestasint[1:], frequency/total]))\n",
    "            feasible = False\n",
    "        counter += 1\n",
    "    return final[1:]"
   ]
  },
  {
   "cell_type": "code",
   "execution_count": 9,
   "metadata": {},
   "outputs": [],
   "source": [
    "def testing_quantum(machine, ins, SPtrial, circ,  SHOT, optimal_point):\n",
    "    \"\"\"\n",
    "    Input:\n",
    "    machine: the name of available machine\n",
    "    ins: the QAP instance\n",
    "    SPtrial: max_trials for SPSA\n",
    "    circ: 'RA' or 'TL' \n",
    "    SHOT: number of shots\n",
    "    optimal_point: numpy array of optimal points from simulator\n",
    "    \n",
    "    Output:\n",
    "    outmatrix: 30 * [eigensolution value, time, feasibility]\n",
    "    (outfile \"thirty_trials-<machine name>-<instance name>.csv\")\n",
    "    \"\"\"\n",
    "    \n",
    "    #get matrix\n",
    "    datamatrix = CSVtoNumpyArray(ins)\n",
    "    MatrixLoc = datamatrix[0]\n",
    "    MatrixFlow = datamatrix[1]\n",
    "    n = len(MatrixLoc)\n",
    "\n",
    "    # Create an instance of a model and variables.\n",
    "    thename = \"qap\" + str(n)\n",
    "    mdl = Model(name=thename)\n",
    "    x = {(i,p): mdl.binary_var(name='x_{0}_{1}'.format(i,p)) for i in range(n) for p in range(n)}\n",
    "\n",
    "    # Object function\n",
    "    qap_func = mdl.sum(MatrixLoc[i,j]* MatrixFlow[k,p]*x[i,k]*x[j,p] for i in range(n) for j in range(n) for p in range(n) for k in range(n))\n",
    "    mdl.minimize(qap_func)\n",
    "\n",
    "    # Constraints\n",
    "    for i in range(n):\n",
    "        mdl.add_constraint(mdl.sum(x[(i,p)] for p in range(n)) == 1)\n",
    "    for p in range(n):\n",
    "        mdl.add_constraint(mdl.sum(x[(i,p)] for i in range(n)) == 1)\n",
    "    print(mdl.export_to_string())\n",
    "    qubitOp_docplex, offset_docplex = docplex.get_operator(mdl) \n",
    "\n",
    "    #Setup VQE\n",
    "    seed = 10598\n",
    "    spsa = SPSA(maxiter=SPtrial)\n",
    "    print('num of qubits; ', qubitOp_docplex.num_qubits)\n",
    "    if circ == 'RA':\n",
    "        ry = RealAmplitudes(qubitOp_docplex.num_qubits, entanglement='linear')\n",
    "    if circ == 'TL':\n",
    "        ry = TwoLocal(qubitOp_docplex.num_qubits, 'ry', 'cz', reps=5, entanglement='linear')\n",
    "    \n",
    "    #30 trials\n",
    "    file = open(\"thirty_trials-\" + str(machine) + \"-\" + str(ins) ,\"w\")\n",
    "    file.write(\"value,   feasible,   frequency, time, iteration\" + \"\\n\")\n",
    "    ans = np.zeros(5)\n",
    "    for i in range(30):\n",
    "        try:\n",
    "            #VQE\n",
    "            vqe = VQE(qubitOp_docplex, ry, spsa, include_custom=True, initial_point = optimal_point )\n",
    "            #backend = Aer.get_backend(machine)\n",
    "            backend = provider.get_backend(machine)\n",
    "            quantum_instance = QuantumInstance(backend=backend,seed_simulator=seed, seed_transpiler=seed, skip_qobj_validation = False, shots = SHOT)\n",
    "            result = vqe.run(quantum_instance,)\n",
    "\n",
    "            #Output processing\n",
    "            print(' Eigenstate:', result['eigenstate'])\n",
    "            print('VQE time:', result['optimizer_time'])\n",
    "            n = len(list(result['eigenstate'].values()))\n",
    "            solution = np.hstack((np.array(list(result['eigenstate'].values())).reshape(n,1),np.array(list(result['eigenstate'].keys())).reshape(n,1)))\n",
    "            print(solution)\n",
    "            for r in solution:\n",
    "                file.write(str(qap_value(np.array(list(r[1])),MatrixFlow,MatrixLoc)) + \",\" + str(qap_feasible(np.array(list(r[1])))) + \",\" + str(r[0]) + \",\"+ str(result['optimizer_time']) + \",\" + str(i) + \"\\n\")\n",
    "                ans = np.vstack((ans,np.array([qap_value(np.array(list(r[1])),MatrixFlow,MatrixLoc),qap_feasible(np.array(list(r[1]))),float(r[0]),result['optimizer_time'],i])))\n",
    "        except:\n",
    "            file.write(\"An error occurred on iteration \" + str(i) + \" of the 30 trials\")\n",
    "            print(\"AN ERROR OCCURRED ON ITERATION\" + str(i) + \" of the 30 trials\")\n",
    "            ans = np.vstack((ans,np.array([math.inf,False,0,np.nan,i])))\n",
    "        print(\"Iteration \"+ str(i) + \" is complete.\")\n",
    "    file.close()\n",
    "    return ans[1:] "
   ]
  },
  {
   "cell_type": "code",
   "execution_count": 10,
   "metadata": {},
   "outputs": [],
   "source": [
    "def read_optimal(ins):\n",
    "    data = pd.read_csv(\"initial_point-\" + str(ins),header = None)\n",
    "    n = len(data[0]) - 1\n",
    "    ans = []\n",
    "    data[0][0] = data[0][0][1:]\n",
    "    data[0][n] = data[0][n][:-1]\n",
    "    for i in data[0]:\n",
    "        r = i.split(\" \")\n",
    "        for t in r:\n",
    "            if t!='':\n",
    "                ans.append(float(t))\n",
    "    return np.array(ans)"
   ]
  },
  {
   "cell_type": "code",
   "execution_count": 11,
   "metadata": {},
   "outputs": [],
   "source": [
    "def success_rate(ans,known):\n",
    "    \"\"\"\n",
    "    Out:\n",
    "    SR99, SR95, Average time\n",
    "    \n",
    "    \"\"\"\n",
    "    count95 = 0\n",
    "    count99 = 0\n",
    "    for i in range(30):\n",
    "        if ans[i,0]<=known*1.05 and ans[i,2]==True:\n",
    "            count95 += 1\n",
    "        if ans[i,0]<=known*1.01 and ans[i,2]==True:\n",
    "            count99 += 1\n",
    "    return count99/30*100, count95/30*100,np.mean(ans[:,1])"
   ]
  },
  {
   "cell_type": "markdown",
   "metadata": {},
   "source": [
    "## The main cells"
   ]
  },
  {
   "cell_type": "markdown",
   "metadata": {},
   "source": [
    "These are the cells running solutions. It should take between 2 hours and 2 days per cell. Note errors are printed but the code should continue"
   ]
  },
  {
   "cell_type": "code",
   "execution_count": null,
   "metadata": {},
   "outputs": [],
   "source": [
    "#3 by 3 thirty trials\n",
    "\n",
    "import logging\n",
    "logging.basicConfig(level=logging.DEBUG) # log the steps of the algorithm and results\n",
    "import warnings\n",
    "warnings.filterwarnings(\"ignore\", category=DeprecationWarning) \n",
    "machines = 'ibm_cairo'\n",
    "#machines = 'qasm_simulator'\n",
    "instances = \"made3.csv\"\n",
    "optimal_point = read_optimal(instances)\n",
    "ans3 = testing_quantum(machines, instances, 1, \"TL\", 1024,optimal_point)"
   ]
  },
  {
   "cell_type": "code",
   "execution_count": null,
   "metadata": {},
   "outputs": [],
   "source": [
    "#4 by 4 thirty trials\n",
    "\n",
    "import logging\n",
    "logging.basicConfig(level=logging.DEBUG) # log the steps of the algorithm and results\n",
    "import warnings\n",
    "warnings.filterwarnings(\"ignore\", category=DeprecationWarning) \n",
    "machines = 'ibm_cairo'\n",
    "#machines = 'qasm_simulator'\n",
    "instances = \"made4.csv\"\n",
    "optimal_point = read_optimal(instances)\n",
    "ans4 = testing_quantum(machines, instances, 1, \"TL\", 1024,optimal_point)"
   ]
  },
  {
   "cell_type": "code",
   "execution_count": null,
   "metadata": {},
   "outputs": [],
   "source": [
    "#5 by 5 thirty trials\n",
    "\n",
    "import logging\n",
    "logging.basicConfig(level=logging.DEBUG) # log the steps of the algorithm and results\n",
    "import warnings\n",
    "warnings.filterwarnings(\"ignore\", category=DeprecationWarning) \n",
    "machines = 'ibm_cairo'\n",
    "#machines = 'qasm_simulator'\n",
    "instances = \"made5.csv\"\n",
    "optimal_point = read_optimal(instances)\n",
    "ans3 = testing_quantum(machines, instances, 1, \"TL\", 1024,optimal_point)"
   ]
  },
  {
   "cell_type": "code",
   "execution_count": 5,
   "metadata": {},
   "outputs": [
    {
     "data": {
      "text/plain": [
       "{'qiskit-terra': '0.15.1',\n",
       " 'qiskit-aer': '0.6.1',\n",
       " 'qiskit-ignis': '0.4.0',\n",
       " 'qiskit-ibmq-provider': '0.8.0',\n",
       " 'qiskit-aqua': '0.7.5',\n",
       " 'qiskit': '0.20.0'}"
      ]
     },
     "execution_count": 5,
     "metadata": {},
     "output_type": "execute_result"
    }
   ],
   "source": [
    "qiskit.__qiskit_version__"
   ]
  }
 ],
 "metadata": {
  "kernelspec": {
   "display_name": "Python 3",
   "language": "python",
   "name": "python3"
  },
  "language_info": {
   "codemirror_mode": {
    "name": "ipython",
    "version": 3
   },
   "file_extension": ".py",
   "mimetype": "text/x-python",
   "name": "python",
   "nbconvert_exporter": "python",
   "pygments_lexer": "ipython3",
   "version": "3.6.10"
  }
 },
 "nbformat": 4,
 "nbformat_minor": 4
}
