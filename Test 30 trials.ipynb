{
 "cells": [
  {
   "cell_type": "markdown",
   "metadata": {},
   "source": [
    "# Test 30 trials for the Quadratic Assignment Problem"
   ]
  },
  {
   "cell_type": "code",
   "execution_count": 1,
   "metadata": {},
   "outputs": [],
   "source": [
    "# useful additional packages \n",
    "import matplotlib.pyplot as plt\n",
    "import random\n",
    "import numpy as np\n",
    "import pandas as pd"
   ]
  },
  {
   "cell_type": "markdown",
   "metadata": {},
   "source": [
    "Read in the data"
   ]
  },
  {
   "cell_type": "code",
   "execution_count": 3,
   "metadata": {},
   "outputs": [],
   "source": [
    "data = pd.read_csv('./some results files/VQE/thirty_trials-ibm_cairo-made3.csv')"
   ]
  },
  {
   "cell_type": "markdown",
   "metadata": {},
   "source": [
    "Time calculation"
   ]
  },
  {
   "cell_type": "code",
   "execution_count": 7,
   "metadata": {},
   "outputs": [
    {
     "name": "stdout",
     "output_type": "stream",
     "text": [
      "Average with outliers: 415.08\n"
     ]
    }
   ],
   "source": [
    "times = data[[' time',' iteration']].groupby(' iteration').mean()\n",
    "print('Average with outliers:',np.round(times.mean(),2)[0])"
   ]
  },
  {
   "cell_type": "markdown",
   "metadata": {},
   "source": [
    "Test feasibility"
   ]
  },
  {
   "cell_type": "code",
   "execution_count": 8,
   "metadata": {},
   "outputs": [
    {
     "data": {
      "text/html": [
       "<div>\n",
       "<style scoped>\n",
       "    .dataframe tbody tr th:only-of-type {\n",
       "        vertical-align: middle;\n",
       "    }\n",
       "\n",
       "    .dataframe tbody tr th {\n",
       "        vertical-align: top;\n",
       "    }\n",
       "\n",
       "    .dataframe thead th {\n",
       "        text-align: right;\n",
       "    }\n",
       "</style>\n",
       "<table border=\"1\" class=\"dataframe\">\n",
       "  <thead>\n",
       "    <tr style=\"text-align: right;\">\n",
       "      <th></th>\n",
       "      <th>value</th>\n",
       "      <th>feasible</th>\n",
       "      <th>frequency</th>\n",
       "      <th>time</th>\n",
       "      <th>iteration</th>\n",
       "    </tr>\n",
       "  </thead>\n",
       "  <tbody>\n",
       "    <tr>\n",
       "      <th>316</th>\n",
       "      <td>12046</td>\n",
       "      <td>True</td>\n",
       "      <td>3</td>\n",
       "      <td>181.147317</td>\n",
       "      <td>0</td>\n",
       "    </tr>\n",
       "    <tr>\n",
       "      <th>333</th>\n",
       "      <td>10216</td>\n",
       "      <td>True</td>\n",
       "      <td>1</td>\n",
       "      <td>181.147317</td>\n",
       "      <td>0</td>\n",
       "    </tr>\n",
       "    <tr>\n",
       "      <th>21</th>\n",
       "      <td>11126</td>\n",
       "      <td>True</td>\n",
       "      <td>1</td>\n",
       "      <td>181.147317</td>\n",
       "      <td>0</td>\n",
       "    </tr>\n",
       "    <tr>\n",
       "      <th>13</th>\n",
       "      <td>13346</td>\n",
       "      <td>True</td>\n",
       "      <td>1</td>\n",
       "      <td>181.147317</td>\n",
       "      <td>0</td>\n",
       "    </tr>\n",
       "    <tr>\n",
       "      <th>280</th>\n",
       "      <td>17616</td>\n",
       "      <td>True</td>\n",
       "      <td>1</td>\n",
       "      <td>181.147317</td>\n",
       "      <td>0</td>\n",
       "    </tr>\n",
       "  </tbody>\n",
       "</table>\n",
       "</div>"
      ],
      "text/plain": [
       "     value     feasible     frequency        time   iteration\n",
       "316  12046         True             3  181.147317           0\n",
       "333  10216         True             1  181.147317           0\n",
       "21   11126         True             1  181.147317           0\n",
       "13   13346         True             1  181.147317           0\n",
       "280  17616         True             1  181.147317           0"
      ]
     },
     "execution_count": 8,
     "metadata": {},
     "output_type": "execute_result"
    }
   ],
   "source": [
    "data = data[data['   feasible']==True]\n",
    "feasibletrials = list(data[['   frequency',' iteration']].groupby(' iteration').max().index)\n",
    "data = data.sort_values([' iteration','   frequency','value'],ascending=[True,False,True])\n",
    "data.head()"
   ]
  },
  {
   "cell_type": "markdown",
   "metadata": {},
   "source": [
    "Uncertainty percentage metrics"
   ]
  },
  {
   "cell_type": "code",
   "execution_count": 16,
   "metadata": {},
   "outputs": [
    {
     "name": "stdout",
     "output_type": "stream",
     "text": [
      "#   mean  max   min   std\n",
      "30  0.45  0.68  0.29  0.13  \n"
     ]
    }
   ],
   "source": [
    "relevanttrials = np.array(data[['   frequency',' iteration']].groupby(' iteration').max()).T\n",
    "relevantpercent = (relevanttrials/1024)*100\n",
    "string = ''\n",
    "if np.shape(relevanttrials)[1]==0:\n",
    "    string += str(np.shape(relevanttrials)[1])+ ' & '\n",
    "    string += '- & '\n",
    "    string += '- & '\n",
    "    string += '- & '\n",
    "    string += '- & '\n",
    "else:\n",
    "    string += str(np.shape(relevanttrials)[1])+ '  '\n",
    "    string += str(np.round(np.mean(relevantpercent),2)) + '  '\n",
    "    string += str(np.round(np.max(relevantpercent),2)) + '  '\n",
    "    string += str(np.round(np.min(relevantpercent),2)) + '  '\n",
    "    string += str(np.round(np.std(relevantpercent),2)) + '  '\n",
    "print(\"#   mean  max   min   std\")\n",
    "print(string)"
   ]
  },
  {
   "cell_type": "markdown",
   "metadata": {},
   "source": [
    "Solution quality metrics"
   ]
  },
  {
   "cell_type": "code",
   "execution_count": 25,
   "metadata": {},
   "outputs": [
    {
     "name": "stdout",
     "output_type": "stream",
     "text": [
      "SR99   SR95   Feas.\n",
      "10.0   10.0   100.0\n"
     ]
    }
   ],
   "source": [
    "known =10216\n",
    "count95 = 0\n",
    "count99 = 0\n",
    "\n",
    "for i in feasibletrials:\n",
    "    ans = int(data[data[' iteration']==i].iloc[0][['value']])\n",
    "    if int(ans) <=1.05*known:\n",
    "        count95 += 1\n",
    "    if int(ans) <= 1.01*known:\n",
    "        count99 += 1\n",
    "print(\"SR99   SR95   Feas.\") # success rate at 99% and 95% and feasibility\n",
    "print(np.round(count99/30 *100,2), \" \", np.round(count95/30 *100,2), \" \", np.round((len(feasibletrials)/30)*100,2))"
   ]
  },
  {
   "cell_type": "code",
   "execution_count": null,
   "metadata": {},
   "outputs": [],
   "source": []
  }
 ],
 "metadata": {
  "kernelspec": {
   "display_name": "Python 3",
   "language": "python",
   "name": "python3"
  },
  "language_info": {
   "codemirror_mode": {
    "name": "ipython",
    "version": 3
   },
   "file_extension": ".py",
   "mimetype": "text/x-python",
   "name": "python",
   "nbconvert_exporter": "python",
   "pygments_lexer": "ipython3",
   "version": "3.6.10"
  }
 },
 "nbformat": 4,
 "nbformat_minor": 2
}
